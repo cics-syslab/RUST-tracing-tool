{
 "cells": [
  {
   "cell_type": "markdown",
   "id": "7abaf9d4-64e0-4404-be7b-5cddd80c8f6b",
   "metadata": {},
   "source": [
    "# Python Based Tracing Tool\n",
    "\n",
    "Used to execute certain shell commands and keep track of everything (hence, in the form of a Jupyter Notebook)"
   ]
  },
  {
   "cell_type": "code",
   "execution_count": 3,
   "id": "2d940086-5cde-422c-a10f-caac2352d422",
   "metadata": {},
   "outputs": [],
   "source": [
    "# To execute shell commands\n",
    "import subprocess"
   ]
  },
  {
   "cell_type": "code",
   "execution_count": 4,
   "id": "3d075e6e-7f99-4ca7-874a-acdf7a92f0b0",
   "metadata": {},
   "outputs": [
    {
     "name": "stdout",
     "output_type": "stream",
     "text": [
      "Command output for 'ls -l':\n",
      "total 20\n",
      "drwxrwxr-x 4 suobset suobset 4096 Oct  1 13:36 cpp\n",
      "-rw-rw-r-- 1 suobset suobset 2328 Oct  1 13:36 exec.py\n",
      "-rw-rw-r-- 1 suobset suobset 2908 Oct  1 13:36 readme.md\n",
      "drwxrwxr-x 4 suobset suobset 4096 Oct  1 13:36 rust\n",
      "-rw-rw-r-- 1 suobset suobset 2551 Oct  1 13:48 Untitled.ipynb\n",
      "\n",
      "Command output for 'echo 'Hello, World'':\n",
      "Hello, World\n",
      "\n",
      "Command output for 'date':\n",
      "Sun Oct  1 01:50:23 PM EDT 2023\n",
      "\n"
     ]
    }
   ],
   "source": [
    "# Boilerplate Code to Execute a bunch of Shell Commands, kept for future reference\n",
    "commands = [\n",
    "    \"ls -l\",\n",
    "    \"echo 'Hello, World'\",\n",
    "    \"date\",\n",
    "    # Add more commands here\n",
    "]\n",
    "\n",
    "for command in commands:\n",
    "    try:\n",
    "        # Run the command and capture the output\n",
    "        result = subprocess.check_output(command, shell=True, universal_newlines=True)\n",
    "\n",
    "        # Print the command output\n",
    "        print(f\"Command output for '{command}':\")\n",
    "        print(result)\n",
    "    except subprocess.CalledProcessError as e:\n",
    "        # Handle errors, if any\n",
    "        print(f\"Command '{command}' failed with error code {e.returncode}\")\n",
    "        print(e.output)"
   ]
  },
  {
   "cell_type": "code",
   "execution_count": 8,
   "id": "bf406856-84e4-44a5-81aa-aa2ffd428f47",
   "metadata": {},
   "outputs": [
    {
     "name": "stdin",
     "output_type": "stream",
     "text": [
      "Enter Path to file (without the file itself): ./\n"
     ]
    },
    {
     "name": "stdout",
     "output_type": "stream",
     "text": [
      "Command output for 'cd ./':\n",
      "\n",
      "Command output for 'clang++ -emit-llvm -S main.cpp':\n",
      "\n",
      "Command 'llvm-as main.ll' failed with error code 127\n",
      "\n",
      "Command 'llc main.bc --o main.s' failed with error code 127\n",
      "\n"
     ]
    },
    {
     "name": "stderr",
     "output_type": "stream",
     "text": [
      "/bin/sh: 1: llvm-as: not found\n",
      "/bin/sh: 1: llc: not found\n"
     ]
    }
   ],
   "source": [
    "\"\"\"\n",
    "For C++ on Clang, get assembly files\n",
    "Trace: Code -> LLVM IR -> LLVM BC -> LLVM Assembly [hijack and make changes] || TBC\n",
    "\n",
    "Refer to this StackOverflow: https://stackoverflow.com/questions/42626107/execute-llvm-ir-code-generated-from-rust-python-source-code\n",
    "\"\"\"\n",
    "\n",
    "def try_commands(filePath):\n",
    "    command1 = \"cd \" + filePath\n",
    "    commands = [\n",
    "        command1,\n",
    "        \"clang++ -emit-llvm -S main.cpp\",\n",
    "        \"llvm-as main.ll\",\n",
    "        \"llc main.bc --o main.s\",\n",
    "    ]\n",
    "    for command in commands:\n",
    "        try:\n",
    "            # Run the command and capture the output\n",
    "            result = subprocess.check_output(command, shell=True, universal_newlines=True)\n",
    "    \n",
    "            # Print the command output\n",
    "            print(f\"Command output for '{command}':\")\n",
    "            print(result)\n",
    "        except subprocess.CalledProcessError as e:\n",
    "            # Handle errors, if any\n",
    "            print(f\"Command '{command}' failed with error code {e.returncode}\")\n",
    "            print(e.output)\n",
    "\n",
    "if __name__ == '__main__':\n",
    "    filePath = input(f\"Enter Path to file (without the file itself):\")\n",
    "    try_commands(filePath)"
   ]
  },
  {
   "cell_type": "code",
   "execution_count": null,
   "id": "2e32b187-9043-4496-a933-00b249d7430b",
   "metadata": {},
   "outputs": [],
   "source": []
  }
 ],
 "metadata": {
  "kernelspec": {
   "display_name": "Python 3 (ipykernel)",
   "language": "python",
   "name": "python3"
  },
  "language_info": {
   "codemirror_mode": {
    "name": "ipython",
    "version": 3
   },
   "file_extension": ".py",
   "mimetype": "text/x-python",
   "name": "python",
   "nbconvert_exporter": "python",
   "pygments_lexer": "ipython3",
   "version": "3.10.12"
  }
 },
 "nbformat": 4,
 "nbformat_minor": 5
}
